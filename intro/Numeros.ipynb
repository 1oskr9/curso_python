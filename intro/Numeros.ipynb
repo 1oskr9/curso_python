{
 "cells": [
  {
   "cell_type": "markdown",
   "metadata": {},
   "source": [
    "# Números"
   ]
  },
  {
   "cell_type": "markdown",
   "metadata": {},
   "source": [
    "### 1. ¿Qué es un número en Python?"
   ]
  },
  {
   "cell_type": "markdown",
   "metadata": {},
   "source": [
    "En Python existen tres tipos de datos numéricos: enteros (`int`), números de punto flotante (`float`) y números complejos."
   ]
  },
  {
   "cell_type": "markdown",
   "metadata": {},
   "source": [
    "### 2. Números enteros"
   ]
  },
  {
   "cell_type": "markdown",
   "metadata": {},
   "source": [
    "De manera básica los números enteros son aquellos que no tienen parte decimal. En Python los números enteros se referencia con la palabra `int`."
   ]
  },
  {
   "cell_type": "code",
   "execution_count": 1,
   "metadata": {},
   "outputs": [],
   "source": [
    "num = 10"
   ]
  },
  {
   "cell_type": "markdown",
   "metadata": {},
   "source": [
    "Es importante diferencia entre un número entero y una cadena de texto que representa un número entero."
   ]
  },
  {
   "cell_type": "code",
   "execution_count": null,
   "id": "6329c771",
   "metadata": {},
   "outputs": [],
   "source": [
    "num = \"10\""
   ]
  },
  {
   "cell_type": "markdown",
   "id": "16403bc5",
   "metadata": {},
   "source": [
    "En Pthon puede convertirse una cadena de texto que representa un número entero en un valor numérico utilizando la función `int()`"
   ]
  },
  {
   "cell_type": "code",
   "execution_count": null,
   "id": "59c39ca5",
   "metadata": {},
   "outputs": [],
   "source": [
    "num = \"10\""
   ]
  },
  {
   "cell_type": "code",
   "execution_count": 2,
   "id": "bf28617e",
   "metadata": {},
   "outputs": [
    {
     "data": {
      "text/plain": [
       "10"
      ]
     },
     "execution_count": 2,
     "metadata": {},
     "output_type": "execute_result"
    }
   ],
   "source": [
    "num"
   ]
  },
  {
   "cell_type": "code",
   "execution_count": 3,
   "id": "bf1cf2a1",
   "metadata": {},
   "outputs": [],
   "source": [
    "num2 = int(num)"
   ]
  },
  {
   "cell_type": "code",
   "execution_count": 4,
   "id": "d66b0a82",
   "metadata": {},
   "outputs": [
    {
     "data": {
      "text/plain": [
       "10"
      ]
     },
     "execution_count": 4,
     "metadata": {},
     "output_type": "execute_result"
    }
   ],
   "source": [
    "num2"
   ]
  },
  {
   "cell_type": "markdown",
   "id": "9824b904",
   "metadata": {},
   "source": [
    "Cuando escribimos un número grande, solemos utilizar diferentes símbolos para separar algunos dígitos de manera que sea más facil de leer. Por ejemplo el número 1000000 solemos representarlo como 1,000,000 o como 1.000.000.\n",
    "\n",
    "En Python no puede añadirse el caracter `,` o `.` para separar los dígitos de un número grande, debe utilizarse el caracter `_`."
   ]
  },
  {
   "cell_type": "code",
   "execution_count": 5,
   "id": "d69dcf35",
   "metadata": {},
   "outputs": [],
   "source": [
    "num = 1000000"
   ]
  },
  {
   "cell_type": "code",
   "execution_count": 6,
   "id": "771255ed",
   "metadata": {},
   "outputs": [
    {
     "data": {
      "text/plain": [
       "1000000"
      ]
     },
     "execution_count": 6,
     "metadata": {},
     "output_type": "execute_result"
    }
   ],
   "source": [
    "num"
   ]
  },
  {
   "cell_type": "code",
   "execution_count": 7,
   "id": "ada8ac99",
   "metadata": {},
   "outputs": [],
   "source": [
    "num2 = 1_000_000"
   ]
  },
  {
   "cell_type": "code",
   "execution_count": 8,
   "id": "ee7e55dd",
   "metadata": {},
   "outputs": [
    {
     "data": {
      "text/plain": [
       "1000000"
      ]
     },
     "execution_count": 8,
     "metadata": {},
     "output_type": "execute_result"
    }
   ],
   "source": [
    "num2"
   ]
  },
  {
   "cell_type": "markdown",
   "id": "fcf4b41f",
   "metadata": {},
   "source": [
    "Una de las cosas sorprendentes sobre los números enteros en Python es que no hay límite en el tamaño de los números que podemos definir. Se pueden definir números enteros tan grandes como la memoria de tu sistema pueda soportar."
   ]
  },
  {
   "cell_type": "code",
   "execution_count": null,
   "id": "3155f96a",
   "metadata": {},
   "outputs": [],
   "source": [
    "num = 100000000000000000000000000000000000000000000000000000000000000000000000000000000000000000000000000000000000000000000000000000000000000000000000000000000000000000000000000000000000000000000000000000000000000000000000000000000000000000000000000000000000000000000000000000000000000000000000000000000000000000000000000000000000000000000000000000000000000000000000000000000000000000000000000000000000000000000000000000000000000000000000000000000000000000000000000000000000000000000000000000000000000000000000000000"
   ]
  },
  {
   "cell_type": "markdown",
   "id": "8ff38f67",
   "metadata": {},
   "source": [
    "### Números de punto flotante"
   ]
  },
  {
   "cell_type": "markdown",
   "id": "bc1db485",
   "metadata": {},
   "source": [
    "De manera básica, y en contraste con los número enteros, los número de punto flotante son aquellos que tienen una parte decimal. En Python los números de putno flotante se referencian con la palabra `float`."
   ]
  },
  {
   "cell_type": "code",
   "execution_count": 11,
   "id": "61921b67",
   "metadata": {},
   "outputs": [],
   "source": [
    "num =10.5"
   ]
  },
  {
   "cell_type": "code",
   "execution_count": 10,
   "id": "e9876647",
   "metadata": {},
   "outputs": [
    {
     "data": {
      "text/plain": [
       "10.5"
      ]
     },
     "execution_count": 10,
     "metadata": {},
     "output_type": "execute_result"
    }
   ],
   "source": [
    "num"
   ]
  },
  {
   "cell_type": "markdown",
   "id": "6fb45d98",
   "metadata": {},
   "source": [
    "De igual manera que con los números enteros, en Pthon puede convertirse una cadena de texto que representa un número de punto flotante en un valor numérico utilizando la función `float()`"
   ]
  },
  {
   "cell_type": "code",
   "execution_count": 12,
   "id": "d688c193",
   "metadata": {},
   "outputs": [],
   "source": [
    "num = \"10.5\""
   ]
  },
  {
   "cell_type": "code",
   "execution_count": 13,
   "id": "302806cd",
   "metadata": {},
   "outputs": [
    {
     "data": {
      "text/plain": [
       "'10.5'"
      ]
     },
     "execution_count": 13,
     "metadata": {},
     "output_type": "execute_result"
    }
   ],
   "source": [
    "num"
   ]
  },
  {
   "cell_type": "code",
   "execution_count": 14,
   "id": "d8fcb6e7",
   "metadata": {},
   "outputs": [],
   "source": [
    "num2 = float(num)"
   ]
  },
  {
   "cell_type": "code",
   "execution_count": 15,
   "id": "2fff22ae",
   "metadata": {},
   "outputs": [
    {
     "data": {
      "text/plain": [
       "10.5"
      ]
     },
     "execution_count": 15,
     "metadata": {},
     "output_type": "execute_result"
    }
   ],
   "source": [
    "num2"
   ]
  },
  {
   "cell_type": "markdown",
   "id": "94c49d32",
   "metadata": {},
   "source": [
    "Respecto a la sintaxis de los números de punto flotante, existen tres formas de representarlos en Python."
   ]
  },
  {
   "cell_type": "code",
   "execution_count": 22,
   "id": "69774300",
   "metadata": {},
   "outputs": [],
   "source": [
    "num = 1000000.5"
   ]
  },
  {
   "cell_type": "code",
   "execution_count": 23,
   "id": "f5715846",
   "metadata": {},
   "outputs": [],
   "source": [
    "num2 = 1_000_000.5"
   ]
  },
  {
   "cell_type": "code",
   "execution_count": 24,
   "id": "de91baa0",
   "metadata": {},
   "outputs": [],
   "source": [
    "num3 = 1e6"
   ]
  },
  {
   "cell_type": "code",
   "execution_count": 25,
   "id": "4fca4630",
   "metadata": {},
   "outputs": [
    {
     "data": {
      "text/plain": [
       "1000000.5"
      ]
     },
     "execution_count": 25,
     "metadata": {},
     "output_type": "execute_result"
    }
   ],
   "source": [
    "num"
   ]
  },
  {
   "cell_type": "code",
   "execution_count": 26,
   "id": "b1200025",
   "metadata": {},
   "outputs": [
    {
     "data": {
      "text/plain": [
       "1000000.5"
      ]
     },
     "execution_count": 26,
     "metadata": {},
     "output_type": "execute_result"
    }
   ],
   "source": [
    "num2"
   ]
  },
  {
   "cell_type": "code",
   "execution_count": 27,
   "id": "6899ddc1",
   "metadata": {},
   "outputs": [
    {
     "data": {
      "text/plain": [
       "1000000.0"
      ]
     },
     "execution_count": 27,
     "metadata": {},
     "output_type": "execute_result"
    }
   ],
   "source": [
    "num3"
   ]
  },
  {
   "cell_type": "markdown",
   "id": "4b7076da",
   "metadata": {},
   "source": [
    "Al contrario que los números enteros, los número de punto flotante si tienen un tamaño máximo en Python. Aunque el tamaño máximo depende de tu sistema, cifras cercanas o superiores a `2e400` o lo que es lo mismo 2x10<sup>400</sup> suelen superar el tamaño máximo.\n",
    "\n",
    "Cuando se alcanza el valor máximo, Python devuelve el valor especial `inf` haciendo referencia a infinito."
   ]
  },
  {
   "cell_type": "code",
   "execution_count": 28,
   "id": "feba94d4",
   "metadata": {},
   "outputs": [],
   "source": [
    "num = 2e400"
   ]
  },
  {
   "cell_type": "code",
   "execution_count": 29,
   "id": "bf8ee8d7",
   "metadata": {},
   "outputs": [
    {
     "data": {
      "text/plain": [
       "inf"
      ]
     },
     "execution_count": 29,
     "metadata": {},
     "output_type": "execute_result"
    }
   ],
   "source": [
    "num"
   ]
  },
  {
   "cell_type": "code",
   "execution_count": 30,
   "id": "d9eb93ad",
   "metadata": {},
   "outputs": [],
   "source": [
    "num = -2e400"
   ]
  },
  {
   "cell_type": "code",
   "execution_count": 31,
   "id": "bdb76387",
   "metadata": {},
   "outputs": [
    {
     "data": {
      "text/plain": [
       "-inf"
      ]
     },
     "execution_count": 31,
     "metadata": {},
     "output_type": "execute_result"
    }
   ],
   "source": [
    "num"
   ]
  },
  {
   "cell_type": "markdown",
   "id": "386469f1",
   "metadata": {},
   "source": [
    "### Números complejos"
   ]
  },
  {
   "cell_type": "markdown",
   "id": "7ab38965",
   "metadata": {},
   "source": [
    "Python es uno de los pocos lenguajes de programación que ofrece soporte integrado para los números complejos. Aunque los números complejos no suelen aparecer fuera de los dominios de la computación científica, pueden ser de mucha utilidad en dominios que utilicen técnicas estadísticas.\n",
    "\n",
    "Un número complejo esta formado por dos componentes distintos: una parte real y una parte imaginaria. Para definir un número complejo en python, se define la parte real seguida de un símbolo `+` y la parte imaginaria terminando con la letra `j`."
   ]
  },
  {
   "cell_type": "code",
   "execution_count": 32,
   "id": "56c9282c",
   "metadata": {},
   "outputs": [],
   "source": [
    "num = 1 + 2j"
   ]
  },
  {
   "cell_type": "code",
   "execution_count": 33,
   "id": "3a58e345",
   "metadata": {},
   "outputs": [
    {
     "data": {
      "text/plain": [
       "(1+2j)"
      ]
     },
     "execution_count": 33,
     "metadata": {},
     "output_type": "execute_result"
    }
   ],
   "source": [
    "num"
   ]
  },
  {
   "cell_type": "code",
   "execution_count": 34,
   "id": "afe0be68",
   "metadata": {},
   "outputs": [
    {
     "data": {
      "text/plain": [
       "1.0"
      ]
     },
     "execution_count": 34,
     "metadata": {},
     "output_type": "execute_result"
    }
   ],
   "source": [
    "num.real"
   ]
  },
  {
   "cell_type": "code",
   "execution_count": 35,
   "id": "5fb1904e",
   "metadata": {},
   "outputs": [
    {
     "data": {
      "text/plain": [
       "2.0"
      ]
     },
     "execution_count": 35,
     "metadata": {},
     "output_type": "execute_result"
    }
   ],
   "source": [
    "num.imag"
   ]
  }
 ],
 "metadata": {
  "kernelspec": {
   "display_name": "Python (Narro)",
   "language": "python",
   "name": "ml39"
  },
  "language_info": {
   "codemirror_mode": {
    "name": "ipython",
    "version": 3
   },
   "file_extension": ".py",
   "mimetype": "text/x-python",
   "name": "python",
   "nbconvert_exporter": "python",
   "pygments_lexer": "ipython3",
   "version": "3.9.19"
  }
 },
 "nbformat": 4,
 "nbformat_minor": 5
}
